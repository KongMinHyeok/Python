{
 "cells": [
  {
   "cell_type": "code",
   "execution_count": null,
   "metadata": {},
   "outputs": [],
   "source": [
    "\"\"\"\n",
    "날짜 : 2023/01/12\n",
    "이름 : 공민혁\n",
    "내용 : 파이썬 파일입출력 실습하기\n",
    "\"\"\""
   ]
  },
  {
   "cell_type": "code",
   "execution_count": 5,
   "metadata": {},
   "outputs": [
    {
     "name": "stdout",
     "output_type": "stream",
     "text": [
      "Hello World!\n",
      "Hello Python!\n"
     ]
    }
   ],
   "source": [
    "# 파일 읽기\n",
    "f1 = open('C:/Users/Administrator/Desktop/Test.txt', mode='r', encoding='utf-8')\n",
    "\n",
    "\n",
    "while True:\n",
    "    line = f1.read()\n",
    "\n",
    "    if not line:\n",
    "        break\n",
    "\n",
    "    print(line)\n",
    "\n",
    "f1.close()"
   ]
  },
  {
   "cell_type": "code",
   "execution_count": null,
   "metadata": {},
   "outputs": [],
   "source": [
    "# 파일 쓰기\n",
    "f2 = open('C:/Users/Administrator/Desktop/Test.txt', mode='r', encoding='utf-8')\n",
    "f2.write('안녕하세요.\\n')\n",
    "f2.write('반갑습니다.\\n')\n",
    "f2.write('감사합니다.\\n')"
   ]
  }
 ],
 "metadata": {
  "kernelspec": {
   "display_name": "Python 3.11.1 64-bit",
   "language": "python",
   "name": "python3"
  },
  "language_info": {
   "codemirror_mode": {
    "name": "ipython",
    "version": 3
   },
   "file_extension": ".py",
   "mimetype": "text/x-python",
   "name": "python",
   "nbconvert_exporter": "python",
   "pygments_lexer": "ipython3",
   "version": "3.11.1"
  },
  "orig_nbformat": 4,
  "vscode": {
   "interpreter": {
    "hash": "ff4b1fca65a764b45acb559e482afe389d289dd599b9f8c5fd12ff5c2ea46a65"
   }
  }
 },
 "nbformat": 4,
 "nbformat_minor": 2
}
