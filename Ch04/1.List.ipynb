{
 "cells": [
  {
   "cell_type": "code",
   "execution_count": null,
   "metadata": {},
   "outputs": [],
   "source": [
    "\"\"\"\n",
    "날짜 : 2023/01/02\n",
    "이름 : 공민혁\n",
    "내용 : 파이썬 리스트 실습하기\n",
    "\"\"\""
   ]
  },
  {
   "cell_type": "code",
   "execution_count": 2,
   "metadata": {},
   "outputs": [
    {
     "name": "stdout",
     "output_type": "stream",
     "text": [
      "list1 type : <class 'set'>\n",
      "list1[0] : list[0]\n",
      "list1[2] : list[2]\n",
      "list1[3] : list[3]\n"
     ]
    }
   ],
   "source": [
    "# 리스트\n",
    "list1 = {1, 2, 3, 4, 5}\n",
    "\n",
    "print('list1 type :', type(list1))\n",
    "print('list1[0] :', list[0])\n",
    "print('list1[2] :', list[2])\n",
    "print('list1[3] :', list[3])"
   ]
  },
  {
   "cell_type": "code",
   "execution_count": 4,
   "metadata": {},
   "outputs": [
    {
     "name": "stdout",
     "output_type": "stream",
     "text": [
      "list2 type : <class 'list'>\n",
      "list2[0] : 1\n",
      "list2[2] : True\n",
      "list2[3] : apple\n"
     ]
    }
   ],
   "source": [
    "# 다양한 자료형을 갖는 리스트\n",
    "\n",
    "list2 = [1, 3.14, True, 'apple']\n",
    "\n",
    "print('list2 type :', type(list2))\n",
    "print('list2[0] :', list2[0])\n",
    "print('list2[2] :', list2[2])\n",
    "print('list2[3] :', list2[3])"
   ]
  },
  {
   "cell_type": "code",
   "execution_count": 6,
   "metadata": {},
   "outputs": [
    {
     "name": "stdout",
     "output_type": "stream",
     "text": [
      "dataset[0][0] : 1\n",
      "dataset[1][0] : 4\n",
      "dataset[2][1] : 8\n"
     ]
    }
   ],
   "source": [
    "#다차원 리스트\n",
    "dataset = [[1, 2, 3],\n",
    "            [4, 5, 6],\n",
    "            [7, 8, 9]]\n",
    "\n",
    "print('dataset[0][0] :', dataset[0][0])\n",
    "print('dataset[1][0] :', dataset[1][0])\n",
    "print('dataset[2][1] :', dataset[2][1])"
   ]
  },
  {
   "cell_type": "code",
   "execution_count": 8,
   "metadata": {},
   "outputs": [
    {
     "name": "stdout",
     "output_type": "stream",
     "text": [
      "dataset : [1, 2, 3, 4, 5]\n",
      "dataset : [1, 7, 3, 4, 5]\n",
      "dataset : [1, 7, 7, 8, 9, 5]\n",
      "dataset : [1, 7, 7, 5]\n"
     ]
    }
   ],
   "source": [
    "# 리스트 수정, 추가, 삭제\n",
    "dataset = [1, 2, 3, 4, 5]\n",
    "print('dataset :', dataset)\n",
    "\n",
    "dataset[1] = 7\n",
    "print('dataset :', dataset)\n",
    "\n",
    "dataset[2:4] = [7, 8, 9]\n",
    "print('dataset :', dataset)\n",
    "\n",
    "dataset[3:5] = []\n",
    "print('dataset :', dataset)"
   ]
  },
  {
   "cell_type": "code",
   "execution_count": 10,
   "metadata": {},
   "outputs": [
    {
     "name": "stdout",
     "output_type": "stream",
     "text": [
      "i : 1\n",
      "i : 2\n",
      "i : 3\n",
      "i : 4\n",
      "i : 5\n",
      "city : 서울\n",
      "city : 대전\n",
      "city : 대구\n",
      "city : 부산\n",
      "city : 광주\n",
      "cities[0] : 서울\n",
      "cities[1] : 대전\n",
      "cities[2] : 대구\n",
      "cities[3] : 부산\n",
      "cities[4] : 광주\n"
     ]
    }
   ],
   "source": [
    "# 리스트 반복문\n",
    "for i in [1, 2, 3, 4, 5]:\n",
    "\n",
    "    print('i :', i)\n",
    "\n",
    "cities = ['서울', '대전', '대구', '부산', '광주']\n",
    "for city in cities:\n",
    "    print('city :', city)\n",
    "\n",
    "for index, value in enumerate(cities):\n",
    "    print('cities[%d] : %s' % (index, value))"
   ]
  },
  {
   "cell_type": "code",
   "execution_count": 11,
   "metadata": {},
   "outputs": [
    {
     "name": "stdout",
     "output_type": "stream",
     "text": [
      "rs1 : [2, 4, 6, 8, 10]\n",
      "rs2 : [2, 6, 10]\n"
     ]
    }
   ],
   "source": [
    "# 리스트 Comprehesion\n",
    "data = [1, 2, 3, 4, 5]\n",
    "\n",
    "rs1 = [num * 2 for num in data]\n",
    "rs2 = [num * 3 for num in data if num % 2 == 1]\n",
    "\n",
    "print('rs1 :', rs1)\n",
    "print('rs2 :', rs2)"
   ]
  }
 ],
 "metadata": {
  "kernelspec": {
   "display_name": "Python 3.11.1 64-bit",
   "language": "python",
   "name": "python3"
  },
  "language_info": {
   "codemirror_mode": {
    "name": "ipython",
    "version": 3
   },
   "file_extension": ".py",
   "mimetype": "text/x-python",
   "name": "python",
   "nbconvert_exporter": "python",
   "pygments_lexer": "ipython3",
   "version": "3.11.1"
  },
  "orig_nbformat": 4,
  "vscode": {
   "interpreter": {
    "hash": "ff4b1fca65a764b45acb559e482afe389d289dd599b9f8c5fd12ff5c2ea46a65"
   }
  }
 },
 "nbformat": 4,
 "nbformat_minor": 2
}
