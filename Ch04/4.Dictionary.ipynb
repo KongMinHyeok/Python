{
 "cells": [
  {
   "cell_type": "code",
   "execution_count": null,
   "metadata": {},
   "outputs": [],
   "source": [
    "\"\"\"\n",
    "날짜 : 2023/01/02\n",
    "이름 : 공민혁\n",
    "내용 : 파이썬 딕셔너리 실습하기\n",
    "\"\"\""
   ]
  },
  {
   "cell_type": "code",
   "execution_count": 1,
   "metadata": {},
   "outputs": [
    {
     "name": "stdout",
     "output_type": "stream",
     "text": [
      "dataset type: <class 'dict'>\n",
      "dataset : {'A': 'Apple', 'B': 'Banana', 'C': 'Cherry'}\n",
      "dataset['A']: Apple\n",
      "dataset['B']: Banana\n",
      "dataset['C']: Cherry\n"
     ]
    }
   ],
   "source": [
    "# Dictionary\n",
    "dataset = {'A': 'Apple', 'B':'Banana', 'C':'Cherry'}\n",
    "\n",
    "print('dataset type:', type(dataset))\n",
    "print('dataset :', dataset)\n",
    "print(\"dataset['A']:\", dataset['A'])\n",
    "print(\"dataset['B']:\", dataset['B'])\n",
    "print(\"dataset['C']:\", dataset['C'])"
   ]
  },
  {
   "cell_type": "code",
   "execution_count": 10,
   "metadata": {},
   "outputs": [
    {
     "name": "stdout",
     "output_type": "stream",
     "text": [
      "3\n",
      "7\n",
      "대구\n",
      "김춘추\n"
     ]
    }
   ],
   "source": [
    "# 딕셔너리 활용\n",
    "dataset = {\n",
    "    101: [1, 2, 3, 4, 5],\n",
    "    102: (6, 7, 8, 9),\n",
    "    103: {'서울', '대전', '대구', '부산', '광주'},\n",
    "    104: {'p1':'김유신', 'p2':'김춘추', 'p3':'장보고'}\n",
    "}\n",
    "\n",
    "print(dataset[101][2])\n",
    "print(dataset[102][1])\n",
    "print(list(dataset[103])[2])\n",
    "print(dataset[104]['p2'])\n"
   ]
  },
  {
   "cell_type": "code",
   "execution_count": null,
   "metadata": {},
   "outputs": [],
   "source": [
    "# 딕셔너리 반복문\n",
    "dataset = {1:'서울', 2:'대전', 3:'대구', 4:'부산', 5:'광주'}\n",
    "\n",
    "for k, v in dataset.items():"
   ]
  }
 ],
 "metadata": {
  "kernelspec": {
   "display_name": "Python 3.11.1 64-bit",
   "language": "python",
   "name": "python3"
  },
  "language_info": {
   "codemirror_mode": {
    "name": "ipython",
    "version": 3
   },
   "file_extension": ".py",
   "mimetype": "text/x-python",
   "name": "python",
   "nbconvert_exporter": "python",
   "pygments_lexer": "ipython3",
   "version": "3.11.1"
  },
  "orig_nbformat": 4,
  "vscode": {
   "interpreter": {
    "hash": "ff4b1fca65a764b45acb559e482afe389d289dd599b9f8c5fd12ff5c2ea46a65"
   }
  }
 },
 "nbformat": 4,
 "nbformat_minor": 2
}
