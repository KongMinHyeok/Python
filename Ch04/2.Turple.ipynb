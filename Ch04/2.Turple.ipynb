{
 "cells": [
  {
   "cell_type": "code",
   "execution_count": 2,
   "metadata": {},
   "outputs": [
    {
     "data": {
      "text/plain": [
       "'\\n날짜 : 2023/01/02\\n이름 : 공민혁\\n내용 : 파이썬 튜플 실습하기\\n'"
      ]
     },
     "execution_count": 2,
     "metadata": {},
     "output_type": "execute_result"
    }
   ],
   "source": [
    "\"\"\"\n",
    "날짜 : 2023/01/02\n",
    "이름 : 공민혁\n",
    "내용 : 파이썬 튜플 실습하기\n",
    "\"\"\""
   ]
  },
  {
   "cell_type": "code",
   "execution_count": 4,
   "metadata": {},
   "outputs": [
    {
     "name": "stdout",
     "output_type": "stream",
     "text": [
      "dataset type : <class 'tuple'>\n",
      "dataset[0] : 1\n",
      "dataset[2] : 3\n",
      "dataset[4] : 5\n"
     ]
    }
   ],
   "source": [
    "# Turple(고정 list)\n",
    "dataset = (1, 2, 3, 4, 5)\n",
    "\n",
    "print('dataset type :', type(dataset))\n",
    "print('dataset[0] :', dataset[0])\n",
    "print('dataset[2] :', dataset[2])\n",
    "print('dataset[4] :', dataset[4])"
   ]
  },
  {
   "cell_type": "code",
   "execution_count": null,
   "metadata": {},
   "outputs": [],
   "source": [
    "# Turple 수정, 추가, 삭제\n",
    "dataset = 1, 2, 3, 4, 5"
   ]
  }
 ],
 "metadata": {
  "kernelspec": {
   "display_name": "Python 3.11.1 64-bit",
   "language": "python",
   "name": "python3"
  },
  "language_info": {
   "codemirror_mode": {
    "name": "ipython",
    "version": 3
   },
   "file_extension": ".py",
   "mimetype": "text/x-python",
   "name": "python",
   "nbconvert_exporter": "python",
   "pygments_lexer": "ipython3",
   "version": "3.11.1"
  },
  "orig_nbformat": 4,
  "vscode": {
   "interpreter": {
    "hash": "ff4b1fca65a764b45acb559e482afe389d289dd599b9f8c5fd12ff5c2ea46a65"
   }
  }
 },
 "nbformat": 4,
 "nbformat_minor": 2
}
