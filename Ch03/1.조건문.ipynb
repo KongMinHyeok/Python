{
 "cells": [
  {
   "cell_type": "code",
   "execution_count": null,
   "metadata": {},
   "outputs": [],
   "source": [
    "\"\"\"\n",
    "날짜 : 2023/01/02\n",
    "이름 : 공민혁\n",
    "내용 : 파이썬 조건문 실습하기\n",
    "\"\"\""
   ]
  },
  {
   "cell_type": "code",
   "execution_count": 5,
   "metadata": {},
   "outputs": [
    {
     "name": "stdout",
     "output_type": "stream",
     "text": [
      "num1은 0보다 크다.\n",
      "num1은 0보다 크고 num2는 1보다 크다.\n",
      "num1은 0보다 크고 그리고 num2는 1보다 크다.\n"
     ]
    }
   ],
   "source": [
    "# if\n",
    "num1, num2 = 1, 2\n",
    "\n",
    "if num1 > 0:\n",
    "    print('num1은 0보다 크다.')\n",
    "\n",
    "if num1 > num2:\n",
    "    print('num1은 num2보다 크다.')\n",
    "\n",
    "if num1 > 0:\n",
    "    if num2 > 1:\n",
    "        print('num1은 0보다 크고 num2는 1보다 크다.')\n",
    "\n",
    "if num1 > 0 and num2 > 1:\n",
    "    print('num1은 0보다 크고 그리고 num2는 1보다 크다.')"
   ]
  },
  {
   "cell_type": "code",
   "execution_count": 9,
   "metadata": {},
   "outputs": [
    {
     "name": "stdout",
     "output_type": "stream",
     "text": [
      "num3가 num4보다 작다.\n"
     ]
    }
   ],
   "source": [
    "# if ~ else\n",
    "num3, num4 = 3, 4\n",
    "\n",
    "if num3 > num4:\n",
    "    print('num3가 num4보다 크다.')\n",
    "else:\n",
    "    print('num3가 num4보다 작다.')"
   ]
  },
  {
   "cell_type": "code",
   "execution_count": 11,
   "metadata": {},
   "outputs": [
    {
     "name": "stdout",
     "output_type": "stream",
     "text": [
      "num4가 가장 크다.\n"
     ]
    }
   ],
   "source": [
    "# if ~ elif ~ else\n",
    "num1, num2, num3, num4 = 1, 2, 3, 4\n",
    "\n",
    "if num1 > num2:\n",
    "    print('num1은 num2보다 크다.')\n",
    "elif num2 > num3:\n",
    "    print('num2은 num3보다 크다.')\n",
    "elif num3 > num4:\n",
    "    print('num3은 num4보다 크다.')\n",
    "else:\n",
    "    print('num4가 가장 크다.')"
   ]
  },
  {
   "cell_type": "code",
   "execution_count": 15,
   "metadata": {},
   "outputs": [
    {
     "name": "stdout",
     "output_type": "stream",
     "text": [
      "B 입니다.\n"
     ]
    }
   ],
   "source": [
    "# 연습문제\n",
    "score = int(input('점수입력 : '))\n",
    "\n",
    "if score >= 90 and score <= 100:\n",
    "    print('A 입니다.')\n",
    "elif 80 <= score < 90:\n",
    "    print('B 입니다.')\n",
    "elif 70 <= score < 80:\n",
    "    print('C 입니다.')\n",
    "elif 60 <= score < 70:\n",
    "    print('D 입니다.')\n",
    "else:\n",
    "    print('F 입니다.')"
   ]
  }
 ],
 "metadata": {
  "kernelspec": {
   "display_name": "Python 3.11.1 64-bit",
   "language": "python",
   "name": "python3"
  },
  "language_info": {
   "codemirror_mode": {
    "name": "ipython",
    "version": 3
   },
   "file_extension": ".py",
   "mimetype": "text/x-python",
   "name": "python",
   "nbconvert_exporter": "python",
   "pygments_lexer": "ipython3",
   "version": "3.11.1"
  },
  "orig_nbformat": 4,
  "vscode": {
   "interpreter": {
    "hash": "ff4b1fca65a764b45acb559e482afe389d289dd599b9f8c5fd12ff5c2ea46a65"
   }
  }
 },
 "nbformat": 4,
 "nbformat_minor": 2
}
